{
  "nbformat": 4,
  "nbformat_minor": 0,
  "metadata": {
    "colab": {
      "provenance": []
    },
    "kernelspec": {
      "name": "python3",
      "display_name": "Python 3"
    },
    "language_info": {
      "name": "python"
    }
  },
  "cells": [
    {
      "cell_type": "markdown",
      "source": [
        "# **Reading data from text files,excel,json**\n",
        "\n",
        "# **Descriptive analysis of UCI IRIS dataset**"
      ],
      "metadata": {
        "id": "mguuSc2mMwHs"
      }
    },
    {
      "cell_type": "markdown",
      "source": [
        "MOUNTING DRIVE"
      ],
      "metadata": {
        "id": "CTXsI-VaNJFu"
      }
    },
    {
      "cell_type": "code",
      "execution_count": null,
      "metadata": {
        "colab": {
          "base_uri": "https://localhost:8080/"
        },
        "id": "bQtKQOtdE5GN",
        "outputId": "b0769436-2bd6-4e30-b59c-babc8189722e"
      },
      "outputs": [
        {
          "output_type": "stream",
          "name": "stdout",
          "text": [
            "Mounted at /content/gdrive/\n"
          ]
        }
      ],
      "source": [
        "from google.colab import drive\n",
        "drive.mount('/content/gdrive/')"
      ]
    },
    {
      "cell_type": "markdown",
      "source": [
        "IMPORTING ESSENTIAL LIBRARIES"
      ],
      "metadata": {
        "id": "SCw4k-yZNL9q"
      }
    },
    {
      "cell_type": "code",
      "source": [
        "# Libraries for Exploratory Data Analysis\n",
        "import os\n",
        "import pandas as pd\n",
        "import numpy as np\n",
        "import matplotlib.pyplot as plt\n",
        "import seaborn as sns\n",
        "%matplotlib inline"
      ],
      "metadata": {
        "id": "ZDl5fB4ZE_7s"
      },
      "execution_count": null,
      "outputs": []
    },
    {
      "cell_type": "markdown",
      "source": [
        "READING A TEXT FILE USING PYTHON"
      ],
      "metadata": {
        "id": "kGIM_IdcNQNn"
      }
    },
    {
      "cell_type": "code",
      "source": [
        "f = open('/content/gdrive/My Drive/zen.txt', 'r')\n",
        "print(f.read())\n",
        "f.close()"
      ],
      "metadata": {
        "colab": {
          "base_uri": "https://localhost:8080/"
        },
        "id": "V-7kosiCGBGx",
        "outputId": "85fca031-2b66-4ed5-8360-7249931dd86d"
      },
      "execution_count": null,
      "outputs": [
        {
          "output_type": "stream",
          "name": "stdout",
          "text": [
            "The Zen of Python, by Tim Peters\n",
            "\n",
            "Beautiful is better than ugly.\n",
            "Explicit is better than implicit.\n",
            "Simple is better than complex.\n",
            "Complex is better than complicated.\n",
            "Flat is better than nested.\n",
            "Sparse is better than dense.\n",
            "Readability counts.\n",
            "Special cases aren't special enough to break the rules.\n",
            "Although practicality beats purity.\n",
            "Errors should never pass silently.\n",
            "Unless explicitly silenced.\n",
            "In the face of ambiguity, refuse the temptation to guess.\n",
            "There should be one-- and preferably only one --obvious way to do it.\n",
            "Although that way may not be obvious at first unless you're Dutch.\n",
            "Now is better than never.\n",
            "Although never is often better than *right* now.\n",
            "If the implementation is hard to explain, it's a bad idea.\n",
            "If the implementation is easy to explain, it may be a good idea.\n",
            "Namespaces are one honking great idea -- let's do more of those!\n"
          ]
        }
      ]
    },
    {
      "cell_type": "markdown",
      "source": [
        "Can use the with context manager to ensure a program releases the resources used after the file was closed, even if an exception has occurred"
      ],
      "metadata": {
        "id": "qjmFUiWLNWXC"
      }
    },
    {
      "cell_type": "code",
      "source": [
        "with open('/content/gdrive/My Drive/zen.txt') as f:\n",
        "    print(f.read())"
      ],
      "metadata": {
        "colab": {
          "base_uri": "https://localhost:8080/"
        },
        "id": "I6F0IiziGWI-",
        "outputId": "2428a3fd-f885-492c-f12a-693be7ed344c"
      },
      "execution_count": null,
      "outputs": [
        {
          "output_type": "stream",
          "name": "stdout",
          "text": [
            "The Zen of Python, by Tim Peters\n",
            "\n",
            "Beautiful is better than ugly.\n",
            "Explicit is better than implicit.\n",
            "Simple is better than complex.\n",
            "Complex is better than complicated.\n",
            "Flat is better than nested.\n",
            "Sparse is better than dense.\n",
            "Readability counts.\n",
            "Special cases aren't special enough to break the rules.\n",
            "Although practicality beats purity.\n",
            "Errors should never pass silently.\n",
            "Unless explicitly silenced.\n",
            "In the face of ambiguity, refuse the temptation to guess.\n",
            "There should be one-- and preferably only one --obvious way to do it.\n",
            "Although that way may not be obvious at first unless you're Dutch.\n",
            "Now is better than never.\n",
            "Although never is often better than *right* now.\n",
            "If the implementation is hard to explain, it's a bad idea.\n",
            "If the implementation is easy to explain, it may be a good idea.\n",
            "Namespaces are one honking great idea -- let's do more of those!\n"
          ]
        }
      ]
    },
    {
      "cell_type": "markdown",
      "source": [
        "**File Modes in Python**\n",
        "\n",
        "'r'\tIt opens a file for reading only.\n",
        "\n",
        "'w'\tIt opens a file for writing. If the file exists, it overwrites it, otherwise, it creates a new file.\n",
        "\n",
        "'a'\tIt opens a file for appending only. If the file doesn’t exist, it creates the file.\n",
        "\n",
        "'x'\tIt creates a new file. If the file exists, it fails.\n",
        "\n",
        "'+'\tIt opens a file for updating.\n"
      ],
      "metadata": {
        "id": "sYYQfSTaNoaG"
      }
    },
    {
      "cell_type": "markdown",
      "source": [
        "**Can copy an image file**"
      ],
      "metadata": {
        "id": "YpNcV0C9OmoA"
      }
    },
    {
      "cell_type": "code",
      "source": [
        "with open('/content/gdrive/My Drive/bible.png', 'rb') as rf:\n",
        "    with open('bible_vegas.png', 'wb') as wf:\n",
        "        for b in rf:\n",
        "            wf.write(b)"
      ],
      "metadata": {
        "id": "_nq0IONgOirh"
      },
      "execution_count": null,
      "outputs": []
    },
    {
      "cell_type": "markdown",
      "source": [
        "Specify the number of bytes in the read() method"
      ],
      "metadata": {
        "id": "B_zJ5adtPpwD"
      }
    },
    {
      "cell_type": "code",
      "source": [
        "with open('/content/gdrive/My Drive/zen.txt') as f:\n",
        "    print(f.read(17))"
      ],
      "metadata": {
        "colab": {
          "base_uri": "https://localhost:8080/"
        },
        "id": "BNynxcCKGaw-",
        "outputId": "6f385d2b-1ad1-4526-8425-9adbbf2f332e"
      },
      "execution_count": null,
      "outputs": [
        {
          "output_type": "stream",
          "name": "stdout",
          "text": [
            "The Zen of Python\n"
          ]
        }
      ]
    },
    {
      "cell_type": "markdown",
      "source": [
        " Read the content of a text file one line at a time"
      ],
      "metadata": {
        "id": "2EZn841JPvcP"
      }
    },
    {
      "cell_type": "code",
      "source": [
        "with open('/content/gdrive/My Drive/zen.txt') as f:\n",
        "    print(f.readline())"
      ],
      "metadata": {
        "colab": {
          "base_uri": "https://localhost:8080/"
        },
        "id": "j_wsxavvGmPY",
        "outputId": "f2f3057c-ebaa-4a3c-c7de-8515f49db642"
      },
      "execution_count": null,
      "outputs": [
        {
          "output_type": "stream",
          "name": "stdout",
          "text": [
            "The Zen of Python, by Tim Peters\n",
            "\n"
          ]
        }
      ]
    },
    {
      "cell_type": "markdown",
      "source": [],
      "metadata": {
        "id": "pIL84dUdP4Fl"
      }
    },
    {
      "cell_type": "code",
      "source": [
        "with open('/content/gdrive/My Drive/zen.txt') as f:\n",
        "    print(f.readline())\n",
        "    print(f.readline())\n",
        "    print(f.readline())\n",
        "    print(f.readline())"
      ],
      "metadata": {
        "colab": {
          "base_uri": "https://localhost:8080/"
        },
        "id": "NUyzAimYGs83",
        "outputId": "51bbed45-e91e-42cd-c19e-e55e9dc24876"
      },
      "execution_count": null,
      "outputs": [
        {
          "output_type": "stream",
          "name": "stdout",
          "text": [
            "The Zen of Python, by Tim Peters\n",
            "\n",
            "\n",
            "\n",
            "Beautiful is better than ugly.\n",
            "\n",
            "Explicit is better than implicit.\n",
            "\n"
          ]
        }
      ]
    },
    {
      "cell_type": "markdown",
      "source": [
        "Outputs the entire file by iterating over it line by line until the file pointer that keeps track of where we’re reading or writing the file reaches the end of the file"
      ],
      "metadata": {
        "id": "CnCK7S-0QKTi"
      }
    },
    {
      "cell_type": "code",
      "source": [
        "with open('/content/gdrive/My Drive/zen.txt') as f:\n",
        "    line = f.readline()\n",
        "    while line:\n",
        "        print(line, end='')\n",
        "        line = f.readline()"
      ],
      "metadata": {
        "colab": {
          "base_uri": "https://localhost:8080/"
        },
        "id": "KkTEf9TpQACz",
        "outputId": "b6af7597-63f8-435b-988c-a00d264820da"
      },
      "execution_count": null,
      "outputs": [
        {
          "output_type": "stream",
          "name": "stdout",
          "text": [
            "The Zen of Python, by Tim Peters\n",
            "\n",
            "Beautiful is better than ugly.\n",
            "Explicit is better than implicit.\n",
            "Simple is better than complex.\n",
            "Complex is better than complicated.\n",
            "Flat is better than nested.\n",
            "Sparse is better than dense.\n",
            "Readability counts.\n",
            "Special cases aren't special enough to break the rules.\n",
            "Although practicality beats purity.\n",
            "Errors should never pass silently.\n",
            "Unless explicitly silenced.\n",
            "In the face of ambiguity, refuse the temptation to guess.\n",
            "There should be one-- and preferably only one --obvious way to do it.\n",
            "Although that way may not be obvious at first unless you're Dutch.\n",
            "Now is better than never.\n",
            "Although never is often better than *right* now.\n",
            "If the implementation is hard to explain, it's a bad idea.\n",
            "If the implementation is easy to explain, it may be a good idea.\n",
            "Namespaces are one honking great idea -- let's do more of those!"
          ]
        }
      ]
    },
    {
      "cell_type": "markdown",
      "source": [
        "readlines() method - on a file object returns a list of strings containing each line of the file"
      ],
      "metadata": {
        "id": "4ErR9lgVQSSO"
      }
    },
    {
      "cell_type": "code",
      "source": [
        "with open('/content/gdrive/My Drive/zen.txt') as f:\n",
        "    lines = f.readlines()"
      ],
      "metadata": {
        "id": "602CfE1iGzh5"
      },
      "execution_count": null,
      "outputs": []
    },
    {
      "cell_type": "markdown",
      "source": [
        "Let’s check the data type of the lines variable and then print it:"
      ],
      "metadata": {
        "id": "1Z5ihb8EQeJ-"
      }
    },
    {
      "cell_type": "code",
      "source": [
        "print(type(lines))\n",
        "print(lines)"
      ],
      "metadata": {
        "colab": {
          "base_uri": "https://localhost:8080/"
        },
        "id": "5vYaypBgG1zZ",
        "outputId": "e1fafa8b-a285-4fa2-c66f-dd834ecb99ce"
      },
      "execution_count": null,
      "outputs": [
        {
          "output_type": "stream",
          "name": "stdout",
          "text": [
            "<class 'list'>\n",
            "['The Zen of Python, by Tim Peters\\n', '\\n', 'Beautiful is better than ugly.\\n', 'Explicit is better than implicit.\\n', 'Simple is better than complex.\\n', 'Complex is better than complicated.\\n', 'Flat is better than nested.\\n', 'Sparse is better than dense.\\n', 'Readability counts.\\n', \"Special cases aren't special enough to break the rules.\\n\", 'Although practicality beats purity.\\n', 'Errors should never pass silently.\\n', 'Unless explicitly silenced.\\n', 'In the face of ambiguity, refuse the temptation to guess.\\n', 'There should be one-- and preferably only one --obvious way to do it.\\n', \"Although that way may not be obvious at first unless you're Dutch.\\n\", 'Now is better than never.\\n', 'Although never is often better than *right* now.\\n', \"If the implementation is hard to explain, it's a bad idea.\\n\", 'If the implementation is easy to explain, it may be a good idea.\\n', \"Namespaces are one honking great idea -- let's do more of those!\"]\n"
          ]
        }
      ]
    },
    {
      "cell_type": "markdown",
      "source": [
        "we can access every item in the list by indexing or slicing operations:"
      ],
      "metadata": {
        "id": "EFvfUp_-QgqW"
      }
    },
    {
      "cell_type": "code",
      "source": [
        "print(lines)\n",
        "print(lines[3:5])\n",
        "print(lines[-1])"
      ],
      "metadata": {
        "colab": {
          "base_uri": "https://localhost:8080/"
        },
        "id": "vohYqhExG4QT",
        "outputId": "05a77b54-ac82-41c1-a1c3-8af45d5a10d6"
      },
      "execution_count": null,
      "outputs": [
        {
          "output_type": "stream",
          "name": "stdout",
          "text": [
            "['The Zen of Python, by Tim Peters\\n', '\\n', 'Beautiful is better than ugly.\\n', 'Explicit is better than implicit.\\n', 'Simple is better than complex.\\n', 'Complex is better than complicated.\\n', 'Flat is better than nested.\\n', 'Sparse is better than dense.\\n', 'Readability counts.\\n', \"Special cases aren't special enough to break the rules.\\n\", 'Although practicality beats purity.\\n', 'Errors should never pass silently.\\n', 'Unless explicitly silenced.\\n', 'In the face of ambiguity, refuse the temptation to guess.\\n', 'There should be one-- and preferably only one --obvious way to do it.\\n', \"Although that way may not be obvious at first unless you're Dutch.\\n\", 'Now is better than never.\\n', 'Although never is often better than *right* now.\\n', \"If the implementation is hard to explain, it's a bad idea.\\n\", 'If the implementation is easy to explain, it may be a good idea.\\n', \"Namespaces are one honking great idea -- let's do more of those!\"]\n",
            "['Explicit is better than implicit.\\n', 'Simple is better than complex.\\n']\n",
            "Namespaces are one honking great idea -- let's do more of those!\n"
          ]
        }
      ]
    },
    {
      "cell_type": "markdown",
      "source": [
        "**Reading CSV Files**"
      ],
      "metadata": {
        "id": "AKenrm1PQmED"
      }
    },
    {
      "cell_type": "code",
      "source": [
        "import csv\n",
        "with open('/content/gdrive/My Drive/chocolate.csv') as f:\n",
        "    reader = csv.reader(f, delimiter=',')\n",
        "    for row in reader:\n",
        "        print(row)"
      ],
      "metadata": {
        "colab": {
          "base_uri": "https://localhost:8080/"
        },
        "id": "7ClnLWcxHeVK",
        "outputId": "9f606bb8-b74a-4f4e-a8fa-ebf0fcdd351a"
      },
      "execution_count": null,
      "outputs": [
        {
          "output_type": "stream",
          "name": "stdout",
          "text": [
            "['Company', 'Bean Origin or Bar Name', 'REF', 'Review Date', 'Cocoa Percent', 'Company Location', 'Rating', 'Bean Type', 'Country of Origin']\n",
            "['A. Morin', 'Agua Grande', '1876', '2016', '63%', 'France', '3.75', ' ', 'Sao Tome']\n",
            "['A. Morin', 'Kpime', '1676', '2015', '70%', 'France', '2.75', ' ', 'Togo']\n",
            "['A. Morin', 'Atsane', '1676', '2015', '70%', 'France', '3', ' ', 'Togo']\n",
            "['A. Morin', 'Akata', '1680', '2015', '70%', 'France', '3.5', ' ', 'Togo']\n",
            "['Acalli', 'Chulucanas, El Platanal', '1462', '2015', '70%', 'U.S.A.', '3.75', ' ', 'Peru']\n",
            "['Acalli', 'Tumbes, Norandino', '1470', '2015', '70%', 'U.S.A.', '3.75', 'Criollo', 'Peru']\n",
            "['Adi', 'Vanua Levu', '705', '2011', '60%', 'Fiji', '2.75', 'Trinitario', 'Fiji']\n",
            "['Adi', 'Vanua Levu, Toto-A', '705', '2011', '80%', 'Fiji', '3.25', 'Trinitario', 'Fiji']\n",
            "['Adi', 'Vanua Levu', '705', '2011', '88%', 'Fiji', '3.5', 'Trinitario', 'Fiji']\n",
            "['Adi', 'Vanua Levu, Ami-Ami-CA', '705', '2011', '72%', 'Fiji', '3.5', 'Trinitario', 'Fiji']\n",
            "['Aequare (Gianduja)', 'Los Rios, Quevedo, Arriba', '370', '2009', '55%', 'Ecuador', '2.75', 'Forastero (Arriba)', 'Ecuador']\n",
            "['Aequare (Gianduja)', 'Los Rios, Quevedo, Arriba', '370', '2009', '70%', 'Ecuador', '3', 'Forastero (Arriba)', 'Ecuador']\n",
            "['Ah Cacao', 'Tabasco', '316', '2009', '70%', 'Mexico', '3', 'Criollo', 'Mexico']\n",
            "[\"Akesson's (Pralus)\", 'Bali (west), Sukrama Family, Melaya area', '636', '2011', '75%', 'Switzerland', '3.75', 'Trinitario', 'Indonesia']\n",
            "[\"Akesson's (Pralus)\", 'Madagascar, Ambolikapiky P.', '502', '2010', '75%', 'Switzerland', '2.75', 'Criollo', 'Madagascar']\n",
            "[\"Akesson's (Pralus)\", 'Monte Alegre, D. Badero', '508', '2010', '75%', 'Switzerland', '2.75', 'Forastero', 'Brazil']\n",
            "['Alain Ducasse', 'Trinite', '1215', '2014', '65%', 'France', '2.75', 'Trinitario', 'Trinidad']\n",
            "['Alain Ducasse', 'Vietnam', '1215', '2014', '75%', 'France', '2.75', 'Trinitario', 'Vietnam']\n",
            "['Alain Ducasse', 'Madagascar', '1215', '2014', '75%', 'France', '3', 'Trinitario', 'Madagascar']\n",
            "['Alain Ducasse', 'Chuao', '1061', '2013', '75%', 'France', '2.5', 'Trinitario', 'Venezuela']\n",
            "['Alain Ducasse', 'Piura, Perou', '1173', '2013', '75%', 'France', '2.5', ' ', 'Peru']\n",
            "['Alexandre', 'Winak Coop, Napo', '1944', '2017', '70%', 'Netherlands', '3.5', 'Forastero (Nacional)', 'Ecuador']\n",
            "['Alexandre', 'La Dalia, Matagalpa', '1944', '2017', '70%', 'Netherlands', '3.5', 'Criollo, Trinitario', 'Nicaragua']\n",
            "['Alexandre', 'Tien Giang', '1944', '2017', '70%', 'Netherlands', '3.5', 'Trinitario', 'Vietnam']\n",
            "['Alexandre', 'Makwale Village, Kyela', '1944', '2017', '70%', 'Netherlands', '3.5', 'Forastero', 'Tanzania']\n",
            "['Altus aka Cao Artisan', 'Momotombo', '1728', '2016', '60%', 'U.S.A.', '2.75', ' ', 'Nicaragua']\n",
            "['Altus aka Cao Artisan', 'Bolivia', '1133', '2013', '60%', 'U.S.A.', '3', ' ', 'Bolivia']\n",
            "['Altus aka Cao Artisan', 'Peru', '1133', '2013', '60%', 'U.S.A.', '3.25', ' ', 'Peru']\n",
            "['Amano', 'Morobe', '725', '2011', '70%', 'U.S.A.', '4', ' ', 'Papua New Guinea']\n",
            "['Amano', 'Dos Rios', '470', '2010', '70%', 'U.S.A.', '3.75', ' ', 'Dominican Republic']\n",
            "['Amano', 'Guayas', '470', '2010', '70%', 'U.S.A.', '4', ' ', 'Ecuador']\n",
            "['Amano', 'Chuao', '544', '2010', '70%', 'U.S.A.', '3', 'Trinitario', 'Venezuela']\n",
            "['Amano', 'Montanya', '363', '2009', '70%', 'U.S.A.', '3', ' ', 'Venezuela']\n",
            "['Amano', 'Bali, Jembrana', '304', '2008', '70%', 'U.S.A.', '2.75', ' ', 'Indonesia']\n",
            "['Amano', 'Madagascar', '129', '2007', '70%', 'U.S.A.', '3.5', 'Trinitario', 'Madagascar']\n",
            "['Amano', 'Cuyagua', '147', '2007', '70%', 'U.S.A.', '3', ' ', 'Venezuela']\n",
            "['Amano', 'Ocumare', '175', '2007', '70%', 'U.S.A.', '3.75', 'Criollo', 'Venezuela']\n",
            "['Amatller (Simon Coll)', 'Ghana', '322', '2009', '70%', 'Spain', '3', 'Forastero', 'Ghana']\n",
            "['Amatller (Simon Coll)', 'Ecuador', '327', '2009', '70%', 'Spain', '2.75', ' ', 'Ecuador']\n",
            "['Amatller (Simon Coll)', 'Ecuador', '464', '2009', '85%', 'Spain', '2.75', ' ', 'Ecuador']\n",
            "['Amatller (Simon Coll)', 'Ghana', '464', '2009', '85%', 'Spain', '3', 'Forastero', 'Ghana']\n",
            "['Amazona', 'LamasdelChanka, San Martin, Oro Verde coop', '1145', '2013', '72%', 'Peru', '3.25', ' ', 'Peru']\n",
            "['Ambrosia', 'Venezuela', '1498', '2015', '70%', 'Canada', '3.25', ' ', 'Venezuela']\n",
            "['Ambrosia', 'Peru', '1498', '2015', '68%', 'Canada', '3.5', ' ', 'Peru']\n",
            "['Amedei', 'Piura, Blanco de Criollo', '979', '2012', '70%', 'Italy', '3.75', ' ', 'Peru']\n",
            "['Amedei', 'Porcelana', '111', '2007', '70%', 'Italy', '4', 'Criollo (Porcelana)', 'Venezuela']\n",
            "['Amedei', 'Nine', '111', '2007', '75%', 'Italy', '4', 'Blend', ' ']\n",
            "['Amedei', 'Chuao', '111', '2007', '70%', 'Italy', '5', 'Trinitario', 'Venezuela']\n",
            "['Amedei', 'Ecuador', '123', '2007', '70%', 'Italy', '3', 'Trinitario', 'Ecuador']\n",
            "['Amedei', 'Jamaica', '123', '2007', '70%', 'Italy', '3', 'Trinitario', 'Jamaica']\n",
            "['Amedei', 'Grenada', '123', '2007', '70%', 'Italy', '3.5', 'Trinitario', 'Grenada']\n",
            "['Amedei', 'Venezuela', '123', '2007', '70%', 'Italy', '3.75', 'Trinitario (85% Criollo)', 'Venezuela']\n",
            "['Amedei', 'Madagascar', '123', '2007', '70%', 'Italy', '4', 'Trinitario (85% Criollo)', 'Madagascar']\n",
            "['Amedei', 'Trinidad', '129', '2007', '70%', 'Italy', '3.5', 'Trinitario', 'Trinidad']\n",
            "['Amedei', 'Toscano Black', '170', '2007', '63%', 'Italy', '3.5', 'Blend', ' ']\n",
            "['Amedei', 'Toscano Black', '40', '2006', '70%', 'Italy', '5', 'Blend', ' ']\n",
            "['Amedei', 'Toscano Black', '75', '2006', '66%', 'Italy', '4', 'Blend', ' ']\n",
            "['AMMA', 'Catongo', '1065', '2013', '75%', 'Brazil', '3.25', 'Forastero (Catongo)', 'Brazil']\n",
            "['AMMA', 'Monte Alegre, 3 diff. plantations', '572', '2010', '85%', 'Brazil', '2.75', 'Forastero (Parazinho)', 'Brazil']\n",
            "['AMMA', 'Monte Alegre, 3 diff. plantations', '572', '2010', '50%', 'Brazil', '3.75', 'Forastero (Parazinho)', 'Brazil']\n",
            "['AMMA', 'Monte Alegre, 3 diff. plantations', '572', '2010', '75%', 'Brazil', '3.75', 'Forastero (Parazinho)', 'Brazil']\n",
            "['AMMA', 'Monte Alegre, 3 diff. plantations', '572', '2010', '60%', 'Brazil', '4', 'Forastero (Parazinho)', 'Brazil']\n",
            "['Anahata', 'Elvesia', '1259', '2014', '75%', 'U.S.A.', '3', ' ', 'Dominican Republic']\n",
            "['Animas', 'Alto Beni', '1852', '2016', '75%', 'U.S.A.', '3.5', ' ', 'Bolivia']\n",
            "['Ara', 'Madagascar', '1375', '2014', '75%', 'France', '3', 'Trinitario', 'Madagascar']\n",
            "['Ara', 'Chiapas', '1379', '2014', '72%', 'France', '2.5', ' ', 'Mexico']\n",
            "['Arete', 'Camino Verde', '1602', '2015', '75%', 'U.S.A.', '3.5', ' ', 'Ecuador']\n",
            "['Artisan du Chocolat', 'Congo', '300', '2008', '72%', 'U.K.', '3.75', 'Forastero', 'Congo']\n",
            "['Artisan du Chocolat (Casa Luker)', 'Orinoqua Region, Arauca', '1181', '2013', '72%', 'U.K.', '2.75', 'Trinitario', 'Colombia']\n",
            "['Askinosie', 'Mababa', '1780', '2016', '68%', 'U.S.A.', '3.75', 'Trinitario', 'Tanzania']\n",
            "['Askinosie', 'Tenende, Uwate', '647', '2011', '72%', 'U.S.A.', '3.75', 'Trinitario', 'Tanzania']\n",
            "['Askinosie', 'Cortes', '661', '2011', '70%', 'U.S.A.', '3.75', 'Trinitario', 'Honduras']\n",
            "['Askinosie', 'Davao', '331', '2009', '77%', 'U.S.A.', '3.75', 'Trinitario', 'Philippines']\n",
            "['Askinosie', 'Xoconusco', '141', '2007', '75%', 'U.S.A.', '2.5', 'Trinitario', 'Mexico']\n",
            "['Askinosie', 'San Jose del Tambo', '175', '2007', '70%', 'U.S.A.', '3', 'Forastero (Arriba)', 'Ecuador']\n",
            "['Bahen & Co.', 'Houseblend', '999', '2012', '70%', 'Australia', '2.5', 'Blend', ' ']\n",
            "['Bakau', 'Bambamarca, 2015', '1454', '2015', '70%', 'Peru', '2.75', ' ', 'Peru']\n",
            "['Bakau', 'Huallabamba, 2015', '1454', '2015', '70%', 'Peru', '3.5', ' ', 'Peru']\n",
            "['Bar Au Chocolat', 'Bahia', '1554', '2015', '70%', 'U.S.A.', '3.5', ' ', 'Brazil']\n",
            "['Bar Au Chocolat', 'Maranon Canyon', '1295', '2014', '70%', 'U.S.A.', '4', 'Forastero (Nacional)', 'Peru']\n",
            "['Bar Au Chocolat', 'Duarte Province', '983', '2012', '70%', 'U.S.A.', '3.25', ' ', 'Dominican Republic']\n",
            "['Bar Au Chocolat', 'Chiapas', '983', '2012', '70%', 'U.S.A.', '3.5', ' ', 'Mexico']\n",
            "['Bar Au Chocolat', 'Sambirano', '983', '2012', '70%', 'U.S.A.', '3.75', 'Trinitario', 'Madagascar']\n",
            "[\"Baravelli's\", 'single estate', '955', '2012', '80%', 'Wales', '2.75', ' ', 'Costa Rica']\n",
            "['Batch', 'Dominican Republic, Batch 3', '1840', '2016', '65%', 'U.S.A.', '3.5', ' ', 'Domincan Republic']\n",
            "['Batch', 'Brazil', '1868', '2016', '70%', 'U.S.A.', '3.75', ' ', 'Brazil']\n",
            "['Batch', 'Ecuador', '1880', '2016', '65%', 'U.S.A.', '3.25', ' ', 'Ecuador']\n",
            "['Beau Cacao', 'Asajaya E, NW Borneo, b. #132/4500', '1948', '2017', '73%', 'U.K.', '3', ' ', 'Malaysia']\n",
            "['Beau Cacao', 'Serian E., NW Borneo, b. #134/3800', '1948', '2017', '72%', 'U.K.', '3.25', ' ', 'Malaysia']\n",
            "['Beehive', 'Brazil, Batch 20316', '1784', '2016', '80%', 'U.S.A.', '2.75', ' ', 'Brazil']\n",
            "['Beehive', 'Dominican Republic, Batch 31616', '1784', '2016', '70%', 'U.S.A.', '2.75', ' ', 'Domincan Republic']\n",
            "['Beehive', 'Ecuador, Batch 31516', '1784', '2016', '70%', 'U.S.A.', '2.75', ' ', 'Ecuador']\n",
            "['Beehive', 'Ecuador', '1788', '2016', '90%', 'U.S.A.', '2.75', ' ', 'Ecuador']\n",
            "['Belcolade', 'Costa Rica', '586', '2010', '64%', 'Belgium', '2.75', ' ', 'Costa Rica']\n",
            "['Belcolade', 'Papua New Guinea', '586', '2010', '64%', 'Belgium', '2.75', ' ', 'Papua New Guinea']\n",
            "['Belcolade', 'Peru', '586', '2010', '64%', 'Belgium', '2.75', ' ', 'Peru']\n",
            "['Belcolade', 'Ecuador', '586', '2010', '71%', 'Belgium', '3.5', ' ', 'Ecuador']\n",
            "['Bellflower', 'Kakao Kamili, Kilombero Valley', '1800', '2016', '70%', 'U.S.A.', '3.5', 'Criollo, Trinitario', 'Tanzania']\n",
            "['Bellflower', 'Alto Beni, Palos Blanco', '1804', '2016', '70%', 'U.S.A.', '3.25', ' ', 'Bolivia']\n",
            "['Vintage Plantations (Tulicorp)', 'Los Rios, Rancho Grande 2007', '153', '2007', '65%', 'U.S.A.', '3', 'Forastero (Arriba)', 'Ecuador']\n",
            "['Violet Sky', 'Sambirano Valley', '1458', '2015', '77%', 'U.S.A.', '2.75', 'Trinitario', 'Madagascar']\n",
            "['Wm', 'Wild Beniano, 2016, batch 128, Heirloom', '1912', '2016', '76%', 'U.S.A.', '3.5', ' ', 'Bolivia']\n",
            "['Wm', 'Ghana, 2013, batch 129', '1916', '2016', '75%', 'U.S.A.', '3.75', ' ', 'Ghana']\n",
            "['Woodblock', 'La Red', '769', '2011', '70%', 'U.S.A.', '3.5', ' ', 'Dominican Republic']\n",
            "['Xocolat', 'Hispaniola', '1057', '2013', '66%', 'Domincan Republic', '3', ' ', 'Dominican Republic']\n",
            "['Xocolla', 'Sambirano, batch 170102', '1948', '2017', '70%', 'U.S.A.', '2.75', ' ', 'Madagascar']\n",
            "['Xocolla', 'Hispaniola, batch 170104', '1948', '2017', '70%', 'U.S.A.', '2.5', ' ', 'Dominican Republic']\n",
            "['Zart Pralinen', 'UNOCACE', '1824', '2016', '70%', 'Austria', '2.75', 'Nacional (Arriba)', 'Ecuador']\n",
            "['Zart Pralinen', 'San Juan Estate', '1824', '2016', '85%', 'Austria', '2.75', 'Trinitario', 'Trinidad']\n",
            "['Zokoko', 'Guadalcanal', '1716', '2016', '78%', 'Australia', '3.75', ' ', 'Solomon Islands']\n"
          ]
        }
      ]
    },
    {
      "cell_type": "markdown",
      "source": [
        "Each row of the CSV file forms a list wherein every item can be easily accessed, as follows:"
      ],
      "metadata": {
        "id": "y8cUVMHIQsU1"
      }
    },
    {
      "cell_type": "code",
      "source": [
        "import csv\n",
        "with open('/content/gdrive/My Drive/chocolate.csv') as f:\n",
        "    reader = csv.reader(f, delimiter=',')\n",
        "    for row in reader:\n",
        "        print(\"The {} company is located in {}.\".format(row[0], row[5]))"
      ],
      "metadata": {
        "colab": {
          "base_uri": "https://localhost:8080/"
        },
        "id": "I66x9prxHpp5",
        "outputId": "8dc06a1f-c5ef-42d3-8e8c-5f619f15bfbd"
      },
      "execution_count": null,
      "outputs": [
        {
          "output_type": "stream",
          "name": "stdout",
          "text": [
            "The Company company is located in Company Location.\n",
            "The A. Morin company is located in France.\n",
            "The A. Morin company is located in France.\n",
            "The A. Morin company is located in France.\n",
            "The A. Morin company is located in France.\n",
            "The Acalli company is located in U.S.A..\n",
            "The Acalli company is located in U.S.A..\n",
            "The Adi company is located in Fiji.\n",
            "The Adi company is located in Fiji.\n",
            "The Adi company is located in Fiji.\n",
            "The Adi company is located in Fiji.\n",
            "The Aequare (Gianduja) company is located in Ecuador.\n",
            "The Aequare (Gianduja) company is located in Ecuador.\n",
            "The Ah Cacao company is located in Mexico.\n",
            "The Akesson's (Pralus) company is located in Switzerland.\n",
            "The Akesson's (Pralus) company is located in Switzerland.\n",
            "The Akesson's (Pralus) company is located in Switzerland.\n",
            "The Alain Ducasse company is located in France.\n",
            "The Alain Ducasse company is located in France.\n",
            "The Alain Ducasse company is located in France.\n",
            "The Alain Ducasse company is located in France.\n",
            "The Alain Ducasse company is located in France.\n",
            "The Alexandre company is located in Netherlands.\n",
            "The Alexandre company is located in Netherlands.\n",
            "The Alexandre company is located in Netherlands.\n",
            "The Alexandre company is located in Netherlands.\n",
            "The Altus aka Cao Artisan company is located in U.S.A..\n",
            "The Altus aka Cao Artisan company is located in U.S.A..\n",
            "The Altus aka Cao Artisan company is located in U.S.A..\n",
            "The Amano company is located in U.S.A..\n",
            "The Amano company is located in U.S.A..\n",
            "The Amano company is located in U.S.A..\n",
            "The Amano company is located in U.S.A..\n",
            "The Amano company is located in U.S.A..\n",
            "The Amano company is located in U.S.A..\n",
            "The Amano company is located in U.S.A..\n",
            "The Amano company is located in U.S.A..\n",
            "The Amano company is located in U.S.A..\n",
            "The Amatller (Simon Coll) company is located in Spain.\n",
            "The Amatller (Simon Coll) company is located in Spain.\n",
            "The Amatller (Simon Coll) company is located in Spain.\n",
            "The Amatller (Simon Coll) company is located in Spain.\n",
            "The Amazona company is located in Peru.\n",
            "The Ambrosia company is located in Canada.\n",
            "The Ambrosia company is located in Canada.\n",
            "The Amedei company is located in Italy.\n",
            "The Amedei company is located in Italy.\n",
            "The Amedei company is located in Italy.\n",
            "The Amedei company is located in Italy.\n",
            "The Amedei company is located in Italy.\n",
            "The Amedei company is located in Italy.\n",
            "The Amedei company is located in Italy.\n",
            "The Amedei company is located in Italy.\n",
            "The Amedei company is located in Italy.\n",
            "The Amedei company is located in Italy.\n",
            "The Amedei company is located in Italy.\n",
            "The Amedei company is located in Italy.\n",
            "The Amedei company is located in Italy.\n",
            "The AMMA company is located in Brazil.\n",
            "The AMMA company is located in Brazil.\n",
            "The AMMA company is located in Brazil.\n",
            "The AMMA company is located in Brazil.\n",
            "The AMMA company is located in Brazil.\n",
            "The Anahata company is located in U.S.A..\n",
            "The Animas company is located in U.S.A..\n",
            "The Ara company is located in France.\n",
            "The Ara company is located in France.\n",
            "The Arete company is located in U.S.A..\n",
            "The Artisan du Chocolat company is located in U.K..\n",
            "The Artisan du Chocolat (Casa Luker) company is located in U.K..\n",
            "The Askinosie company is located in U.S.A..\n",
            "The Askinosie company is located in U.S.A..\n",
            "The Askinosie company is located in U.S.A..\n",
            "The Askinosie company is located in U.S.A..\n",
            "The Askinosie company is located in U.S.A..\n",
            "The Askinosie company is located in U.S.A..\n",
            "The Bahen & Co. company is located in Australia.\n",
            "The Bakau company is located in Peru.\n",
            "The Bakau company is located in Peru.\n",
            "The Bar Au Chocolat company is located in U.S.A..\n",
            "The Bar Au Chocolat company is located in U.S.A..\n",
            "The Bar Au Chocolat company is located in U.S.A..\n",
            "The Bar Au Chocolat company is located in U.S.A..\n",
            "The Bar Au Chocolat company is located in U.S.A..\n",
            "The Baravelli's company is located in Wales.\n",
            "The Batch company is located in U.S.A..\n",
            "The Batch company is located in U.S.A..\n",
            "The Batch company is located in U.S.A..\n",
            "The Beau Cacao company is located in U.K..\n",
            "The Beau Cacao company is located in U.K..\n",
            "The Beehive company is located in U.S.A..\n",
            "The Beehive company is located in U.S.A..\n",
            "The Beehive company is located in U.S.A..\n",
            "The Beehive company is located in U.S.A..\n",
            "The Belcolade company is located in Belgium.\n",
            "The Belcolade company is located in Belgium.\n",
            "The Belcolade company is located in Belgium.\n",
            "The Belcolade company is located in Belgium.\n",
            "The Bellflower company is located in U.S.A..\n",
            "The Bellflower company is located in U.S.A..\n",
            "The Vintage Plantations (Tulicorp) company is located in U.S.A..\n",
            "The Violet Sky company is located in U.S.A..\n",
            "The Wm company is located in U.S.A..\n",
            "The Wm company is located in U.S.A..\n",
            "The Woodblock company is located in U.S.A..\n",
            "The Xocolat company is located in Domincan Republic.\n",
            "The Xocolla company is located in U.S.A..\n",
            "The Xocolla company is located in U.S.A..\n",
            "The Zart Pralinen company is located in Austria.\n",
            "The Zart Pralinen company is located in Austria.\n",
            "The Zokoko company is located in Australia.\n"
          ]
        }
      ]
    },
    {
      "cell_type": "markdown",
      "source": [
        "It’s possible to use the name of the columns instead of using their indices, which is usually more convenient for developers. In this case, instead of using the reader() method, we use the DictReader() method that returns a collection of dictionary objects."
      ],
      "metadata": {
        "id": "ywh-yNwAQzIL"
      }
    },
    {
      "cell_type": "code",
      "source": [
        "import csv\n",
        "with open('/content/gdrive/My Drive/chocolate.csv') as f:\n",
        "    dict_reader = csv.DictReader(f, delimiter=',')\n",
        "    for row in dict_reader:\n",
        "        print(\"The {} company is located in {}.\".format(row['Company'], row['Company Location']))\n"
      ],
      "metadata": {
        "colab": {
          "base_uri": "https://localhost:8080/"
        },
        "id": "gemnlqjDH3t4",
        "outputId": "d2f7a5f4-5f78-42de-a161-2651dab61de9"
      },
      "execution_count": null,
      "outputs": [
        {
          "output_type": "stream",
          "name": "stdout",
          "text": [
            "The A. Morin company is located in France.\n",
            "The A. Morin company is located in France.\n",
            "The A. Morin company is located in France.\n",
            "The A. Morin company is located in France.\n",
            "The Acalli company is located in U.S.A..\n",
            "The Acalli company is located in U.S.A..\n",
            "The Adi company is located in Fiji.\n",
            "The Adi company is located in Fiji.\n",
            "The Adi company is located in Fiji.\n",
            "The Adi company is located in Fiji.\n",
            "The Aequare (Gianduja) company is located in Ecuador.\n",
            "The Aequare (Gianduja) company is located in Ecuador.\n",
            "The Ah Cacao company is located in Mexico.\n",
            "The Akesson's (Pralus) company is located in Switzerland.\n",
            "The Akesson's (Pralus) company is located in Switzerland.\n",
            "The Akesson's (Pralus) company is located in Switzerland.\n",
            "The Alain Ducasse company is located in France.\n",
            "The Alain Ducasse company is located in France.\n",
            "The Alain Ducasse company is located in France.\n",
            "The Alain Ducasse company is located in France.\n",
            "The Alain Ducasse company is located in France.\n",
            "The Alexandre company is located in Netherlands.\n",
            "The Alexandre company is located in Netherlands.\n",
            "The Alexandre company is located in Netherlands.\n",
            "The Alexandre company is located in Netherlands.\n",
            "The Altus aka Cao Artisan company is located in U.S.A..\n",
            "The Altus aka Cao Artisan company is located in U.S.A..\n",
            "The Altus aka Cao Artisan company is located in U.S.A..\n",
            "The Amano company is located in U.S.A..\n",
            "The Amano company is located in U.S.A..\n",
            "The Amano company is located in U.S.A..\n",
            "The Amano company is located in U.S.A..\n",
            "The Amano company is located in U.S.A..\n",
            "The Amano company is located in U.S.A..\n",
            "The Amano company is located in U.S.A..\n",
            "The Amano company is located in U.S.A..\n",
            "The Amano company is located in U.S.A..\n",
            "The Amatller (Simon Coll) company is located in Spain.\n",
            "The Amatller (Simon Coll) company is located in Spain.\n",
            "The Amatller (Simon Coll) company is located in Spain.\n",
            "The Amatller (Simon Coll) company is located in Spain.\n",
            "The Amazona company is located in Peru.\n",
            "The Ambrosia company is located in Canada.\n",
            "The Ambrosia company is located in Canada.\n",
            "The Amedei company is located in Italy.\n",
            "The Amedei company is located in Italy.\n",
            "The Amedei company is located in Italy.\n",
            "The Amedei company is located in Italy.\n",
            "The Amedei company is located in Italy.\n",
            "The Amedei company is located in Italy.\n",
            "The Amedei company is located in Italy.\n",
            "The Amedei company is located in Italy.\n",
            "The Amedei company is located in Italy.\n",
            "The Amedei company is located in Italy.\n",
            "The Amedei company is located in Italy.\n",
            "The Amedei company is located in Italy.\n",
            "The Amedei company is located in Italy.\n",
            "The AMMA company is located in Brazil.\n",
            "The AMMA company is located in Brazil.\n",
            "The AMMA company is located in Brazil.\n",
            "The AMMA company is located in Brazil.\n",
            "The AMMA company is located in Brazil.\n",
            "The Anahata company is located in U.S.A..\n",
            "The Animas company is located in U.S.A..\n",
            "The Ara company is located in France.\n",
            "The Ara company is located in France.\n",
            "The Arete company is located in U.S.A..\n",
            "The Artisan du Chocolat company is located in U.K..\n",
            "The Artisan du Chocolat (Casa Luker) company is located in U.K..\n",
            "The Askinosie company is located in U.S.A..\n",
            "The Askinosie company is located in U.S.A..\n",
            "The Askinosie company is located in U.S.A..\n",
            "The Askinosie company is located in U.S.A..\n",
            "The Askinosie company is located in U.S.A..\n",
            "The Askinosie company is located in U.S.A..\n",
            "The Bahen & Co. company is located in Australia.\n",
            "The Bakau company is located in Peru.\n",
            "The Bakau company is located in Peru.\n",
            "The Bar Au Chocolat company is located in U.S.A..\n",
            "The Bar Au Chocolat company is located in U.S.A..\n",
            "The Bar Au Chocolat company is located in U.S.A..\n",
            "The Bar Au Chocolat company is located in U.S.A..\n",
            "The Bar Au Chocolat company is located in U.S.A..\n",
            "The Baravelli's company is located in Wales.\n",
            "The Batch company is located in U.S.A..\n",
            "The Batch company is located in U.S.A..\n",
            "The Batch company is located in U.S.A..\n",
            "The Beau Cacao company is located in U.K..\n",
            "The Beau Cacao company is located in U.K..\n",
            "The Beehive company is located in U.S.A..\n",
            "The Beehive company is located in U.S.A..\n",
            "The Beehive company is located in U.S.A..\n",
            "The Beehive company is located in U.S.A..\n",
            "The Belcolade company is located in Belgium.\n",
            "The Belcolade company is located in Belgium.\n",
            "The Belcolade company is located in Belgium.\n",
            "The Belcolade company is located in Belgium.\n",
            "The Bellflower company is located in U.S.A..\n",
            "The Bellflower company is located in U.S.A..\n",
            "The Vintage Plantations (Tulicorp) company is located in U.S.A..\n",
            "The Violet Sky company is located in U.S.A..\n",
            "The Wm company is located in U.S.A..\n",
            "The Wm company is located in U.S.A..\n",
            "The Woodblock company is located in U.S.A..\n",
            "The Xocolat company is located in Domincan Republic.\n",
            "The Xocolla company is located in U.S.A..\n",
            "The Xocolla company is located in U.S.A..\n",
            "The Zart Pralinen company is located in Austria.\n",
            "The Zart Pralinen company is located in Austria.\n",
            "The Zokoko company is located in Australia.\n"
          ]
        }
      ]
    },
    {
      "cell_type": "markdown",
      "source": [
        "**READING JSON FILES**"
      ],
      "metadata": {
        "id": "hde9L_XfQ684"
      }
    },
    {
      "cell_type": "markdown",
      "source": [
        "Load a JSON file and work with it as a JSON object — not as a text file."
      ],
      "metadata": {
        "id": "PIpNGF82RJ_l"
      }
    },
    {
      "cell_type": "code",
      "source": [
        "import json\n",
        "with open('/content/gdrive/My Drive/one.json') as f:\n",
        "    content = json.load(f)\n",
        "    print(content)"
      ],
      "metadata": {
        "colab": {
          "base_uri": "https://localhost:8080/"
        },
        "id": "3VQN2LpzIRNV",
        "outputId": "2f3b5967-6878-4dff-b52e-194af685ac5c"
      },
      "execution_count": null,
      "outputs": [
        {
          "output_type": "stream",
          "name": "stdout",
          "text": [
            "{'Title': 'Bicentennial Man', 'Release Date': 'Dec 17 1999', 'MPAA Rating': 'PG', 'Running Time min': 132, 'Distributor': 'Walt Disney Pictures', 'Source': 'Based on Book/Short Story', 'Major Genre': 'Drama', 'Creative Type': 'Science Fiction', 'Director': 'Chris Columbus', 'Rotten Tomatoes Rating': 38, 'IMDB Rating': 6.4, 'IMDB Votes': 28827}\n"
          ]
        }
      ]
    },
    {
      "cell_type": "markdown",
      "source": [
        "Let’s check the data type of the content variable:"
      ],
      "metadata": {
        "id": "0HRnt_LARNMQ"
      }
    },
    {
      "cell_type": "code",
      "source": [
        "print(type(content))"
      ],
      "metadata": {
        "colab": {
          "base_uri": "https://localhost:8080/"
        },
        "id": "TKnmAce2Ib9o",
        "outputId": "88e8b070-eb16-492c-9933-56dd58ec2d46"
      },
      "execution_count": null,
      "outputs": [
        {
          "output_type": "stream",
          "name": "stdout",
          "text": [
            "<class 'dict'>\n"
          ]
        }
      ]
    },
    {
      "cell_type": "markdown",
      "source": [
        "Its data type is a dictionary. So we can access each piece of information stored in the JSON file with its key. Let’s see how we can retrieve data from it"
      ],
      "metadata": {
        "id": "99zt7D6eRR87"
      }
    },
    {
      "cell_type": "code",
      "source": [
        "print('{} directed by {}'.format(content['Title'], content['Director']))"
      ],
      "metadata": {
        "colab": {
          "base_uri": "https://localhost:8080/"
        },
        "id": "zO4w4eBNIfWZ",
        "outputId": "b6589553-31f2-4fb4-a928-49bf6fc1ee57"
      },
      "execution_count": null,
      "outputs": [
        {
          "output_type": "stream",
          "name": "stdout",
          "text": [
            "Bicentennial Man directed by Chris Columbus\n"
          ]
        }
      ]
    },
    {
      "cell_type": "markdown",
      "source": [
        "# **DESCRIPTIVE ANALYSIS OF IRIS DATASET**"
      ],
      "metadata": {
        "id": "7a2C2XN9RV9i"
      }
    },
    {
      "cell_type": "code",
      "source": [
        "import pandas as pd\n",
        "import numpy as np\n",
        "import matplotlib.pyplot as plt\n",
        "import seaborn as sns\n",
        "from subprocess import check_output\n",
        "%matplotlib inline"
      ],
      "metadata": {
        "id": "wrRiWkrlIgVF"
      },
      "execution_count": null,
      "outputs": []
    },
    {
      "cell_type": "code",
      "source": [
        "iris_df = pd.read_csv('/content/gdrive/My Drive/Iris.csv')"
      ],
      "metadata": {
        "id": "J1N82sN2IgXH"
      },
      "execution_count": null,
      "outputs": []
    },
    {
      "cell_type": "code",
      "source": [
        "iris_df.describe()"
      ],
      "metadata": {
        "colab": {
          "base_uri": "https://localhost:8080/",
          "height": 300
        },
        "id": "4noW6YJPIgaV",
        "outputId": "102de31f-0b12-4779-b968-dc54f1b877b1"
      },
      "execution_count": null,
      "outputs": [
        {
          "output_type": "execute_result",
          "data": {
            "text/plain": [
              "               Id  SepalLengthCm  SepalWidthCm  PetalLengthCm  PetalWidthCm\n",
              "count  150.000000     150.000000    150.000000     150.000000    150.000000\n",
              "mean    75.500000       5.843333      3.054000       3.758667      1.198667\n",
              "std     43.445368       0.828066      0.433594       1.764420      0.763161\n",
              "min      1.000000       4.300000      2.000000       1.000000      0.100000\n",
              "25%     38.250000       5.100000      2.800000       1.600000      0.300000\n",
              "50%     75.500000       5.800000      3.000000       4.350000      1.300000\n",
              "75%    112.750000       6.400000      3.300000       5.100000      1.800000\n",
              "max    150.000000       7.900000      4.400000       6.900000      2.500000"
            ],
            "text/html": [
              "\n",
              "  <div id=\"df-6ea5ea6c-8f1f-41b4-891c-e9b1083f3af1\">\n",
              "    <div class=\"colab-df-container\">\n",
              "      <div>\n",
              "<style scoped>\n",
              "    .dataframe tbody tr th:only-of-type {\n",
              "        vertical-align: middle;\n",
              "    }\n",
              "\n",
              "    .dataframe tbody tr th {\n",
              "        vertical-align: top;\n",
              "    }\n",
              "\n",
              "    .dataframe thead th {\n",
              "        text-align: right;\n",
              "    }\n",
              "</style>\n",
              "<table border=\"1\" class=\"dataframe\">\n",
              "  <thead>\n",
              "    <tr style=\"text-align: right;\">\n",
              "      <th></th>\n",
              "      <th>Id</th>\n",
              "      <th>SepalLengthCm</th>\n",
              "      <th>SepalWidthCm</th>\n",
              "      <th>PetalLengthCm</th>\n",
              "      <th>PetalWidthCm</th>\n",
              "    </tr>\n",
              "  </thead>\n",
              "  <tbody>\n",
              "    <tr>\n",
              "      <th>count</th>\n",
              "      <td>150.000000</td>\n",
              "      <td>150.000000</td>\n",
              "      <td>150.000000</td>\n",
              "      <td>150.000000</td>\n",
              "      <td>150.000000</td>\n",
              "    </tr>\n",
              "    <tr>\n",
              "      <th>mean</th>\n",
              "      <td>75.500000</td>\n",
              "      <td>5.843333</td>\n",
              "      <td>3.054000</td>\n",
              "      <td>3.758667</td>\n",
              "      <td>1.198667</td>\n",
              "    </tr>\n",
              "    <tr>\n",
              "      <th>std</th>\n",
              "      <td>43.445368</td>\n",
              "      <td>0.828066</td>\n",
              "      <td>0.433594</td>\n",
              "      <td>1.764420</td>\n",
              "      <td>0.763161</td>\n",
              "    </tr>\n",
              "    <tr>\n",
              "      <th>min</th>\n",
              "      <td>1.000000</td>\n",
              "      <td>4.300000</td>\n",
              "      <td>2.000000</td>\n",
              "      <td>1.000000</td>\n",
              "      <td>0.100000</td>\n",
              "    </tr>\n",
              "    <tr>\n",
              "      <th>25%</th>\n",
              "      <td>38.250000</td>\n",
              "      <td>5.100000</td>\n",
              "      <td>2.800000</td>\n",
              "      <td>1.600000</td>\n",
              "      <td>0.300000</td>\n",
              "    </tr>\n",
              "    <tr>\n",
              "      <th>50%</th>\n",
              "      <td>75.500000</td>\n",
              "      <td>5.800000</td>\n",
              "      <td>3.000000</td>\n",
              "      <td>4.350000</td>\n",
              "      <td>1.300000</td>\n",
              "    </tr>\n",
              "    <tr>\n",
              "      <th>75%</th>\n",
              "      <td>112.750000</td>\n",
              "      <td>6.400000</td>\n",
              "      <td>3.300000</td>\n",
              "      <td>5.100000</td>\n",
              "      <td>1.800000</td>\n",
              "    </tr>\n",
              "    <tr>\n",
              "      <th>max</th>\n",
              "      <td>150.000000</td>\n",
              "      <td>7.900000</td>\n",
              "      <td>4.400000</td>\n",
              "      <td>6.900000</td>\n",
              "      <td>2.500000</td>\n",
              "    </tr>\n",
              "  </tbody>\n",
              "</table>\n",
              "</div>\n",
              "      <button class=\"colab-df-convert\" onclick=\"convertToInteractive('df-6ea5ea6c-8f1f-41b4-891c-e9b1083f3af1')\"\n",
              "              title=\"Convert this dataframe to an interactive table.\"\n",
              "              style=\"display:none;\">\n",
              "        \n",
              "  <svg xmlns=\"http://www.w3.org/2000/svg\" height=\"24px\"viewBox=\"0 0 24 24\"\n",
              "       width=\"24px\">\n",
              "    <path d=\"M0 0h24v24H0V0z\" fill=\"none\"/>\n",
              "    <path d=\"M18.56 5.44l.94 2.06.94-2.06 2.06-.94-2.06-.94-.94-2.06-.94 2.06-2.06.94zm-11 1L8.5 8.5l.94-2.06 2.06-.94-2.06-.94L8.5 2.5l-.94 2.06-2.06.94zm10 10l.94 2.06.94-2.06 2.06-.94-2.06-.94-.94-2.06-.94 2.06-2.06.94z\"/><path d=\"M17.41 7.96l-1.37-1.37c-.4-.4-.92-.59-1.43-.59-.52 0-1.04.2-1.43.59L10.3 9.45l-7.72 7.72c-.78.78-.78 2.05 0 2.83L4 21.41c.39.39.9.59 1.41.59.51 0 1.02-.2 1.41-.59l7.78-7.78 2.81-2.81c.8-.78.8-2.07 0-2.86zM5.41 20L4 18.59l7.72-7.72 1.47 1.35L5.41 20z\"/>\n",
              "  </svg>\n",
              "      </button>\n",
              "      \n",
              "  <style>\n",
              "    .colab-df-container {\n",
              "      display:flex;\n",
              "      flex-wrap:wrap;\n",
              "      gap: 12px;\n",
              "    }\n",
              "\n",
              "    .colab-df-convert {\n",
              "      background-color: #E8F0FE;\n",
              "      border: none;\n",
              "      border-radius: 50%;\n",
              "      cursor: pointer;\n",
              "      display: none;\n",
              "      fill: #1967D2;\n",
              "      height: 32px;\n",
              "      padding: 0 0 0 0;\n",
              "      width: 32px;\n",
              "    }\n",
              "\n",
              "    .colab-df-convert:hover {\n",
              "      background-color: #E2EBFA;\n",
              "      box-shadow: 0px 1px 2px rgba(60, 64, 67, 0.3), 0px 1px 3px 1px rgba(60, 64, 67, 0.15);\n",
              "      fill: #174EA6;\n",
              "    }\n",
              "\n",
              "    [theme=dark] .colab-df-convert {\n",
              "      background-color: #3B4455;\n",
              "      fill: #D2E3FC;\n",
              "    }\n",
              "\n",
              "    [theme=dark] .colab-df-convert:hover {\n",
              "      background-color: #434B5C;\n",
              "      box-shadow: 0px 1px 3px 1px rgba(0, 0, 0, 0.15);\n",
              "      filter: drop-shadow(0px 1px 2px rgba(0, 0, 0, 0.3));\n",
              "      fill: #FFFFFF;\n",
              "    }\n",
              "  </style>\n",
              "\n",
              "      <script>\n",
              "        const buttonEl =\n",
              "          document.querySelector('#df-6ea5ea6c-8f1f-41b4-891c-e9b1083f3af1 button.colab-df-convert');\n",
              "        buttonEl.style.display =\n",
              "          google.colab.kernel.accessAllowed ? 'block' : 'none';\n",
              "\n",
              "        async function convertToInteractive(key) {\n",
              "          const element = document.querySelector('#df-6ea5ea6c-8f1f-41b4-891c-e9b1083f3af1');\n",
              "          const dataTable =\n",
              "            await google.colab.kernel.invokeFunction('convertToInteractive',\n",
              "                                                     [key], {});\n",
              "          if (!dataTable) return;\n",
              "\n",
              "          const docLinkHtml = 'Like what you see? Visit the ' +\n",
              "            '<a target=\"_blank\" href=https://colab.research.google.com/notebooks/data_table.ipynb>data table notebook</a>'\n",
              "            + ' to learn more about interactive tables.';\n",
              "          element.innerHTML = '';\n",
              "          dataTable['output_type'] = 'display_data';\n",
              "          await google.colab.output.renderOutput(dataTable, element);\n",
              "          const docLink = document.createElement('div');\n",
              "          docLink.innerHTML = docLinkHtml;\n",
              "          element.appendChild(docLink);\n",
              "        }\n",
              "      </script>\n",
              "    </div>\n",
              "  </div>\n",
              "  "
            ]
          },
          "metadata": {},
          "execution_count": 29
        }
      ]
    },
    {
      "cell_type": "code",
      "source": [
        "iris_df.info()"
      ],
      "metadata": {
        "colab": {
          "base_uri": "https://localhost:8080/"
        },
        "id": "3nmkbk90Jd8E",
        "outputId": "80c2950e-b4fa-4c08-bc8d-317f1d28e0cd"
      },
      "execution_count": null,
      "outputs": [
        {
          "output_type": "stream",
          "name": "stdout",
          "text": [
            "<class 'pandas.core.frame.DataFrame'>\n",
            "RangeIndex: 150 entries, 0 to 149\n",
            "Data columns (total 6 columns):\n",
            " #   Column         Non-Null Count  Dtype  \n",
            "---  ------         --------------  -----  \n",
            " 0   Id             150 non-null    int64  \n",
            " 1   SepalLengthCm  150 non-null    float64\n",
            " 2   SepalWidthCm   150 non-null    float64\n",
            " 3   PetalLengthCm  150 non-null    float64\n",
            " 4   PetalWidthCm   150 non-null    float64\n",
            " 5   Species        150 non-null    object \n",
            "dtypes: float64(4), int64(1), object(1)\n",
            "memory usage: 7.2+ KB\n"
          ]
        }
      ]
    },
    {
      "cell_type": "code",
      "source": [
        "iris_df.shape"
      ],
      "metadata": {
        "colab": {
          "base_uri": "https://localhost:8080/"
        },
        "id": "NxRcnop1Jhvp",
        "outputId": "a060ff6c-6d74-4b9f-d5a3-360e151df86e"
      },
      "execution_count": null,
      "outputs": [
        {
          "output_type": "execute_result",
          "data": {
            "text/plain": [
              "(150, 6)"
            ]
          },
          "metadata": {},
          "execution_count": 31
        }
      ]
    },
    {
      "cell_type": "code",
      "source": [
        "iris_df.head()"
      ],
      "metadata": {
        "colab": {
          "base_uri": "https://localhost:8080/",
          "height": 206
        },
        "id": "5XnvnHI9IgeW",
        "outputId": "750f1f8a-34f4-4341-d087-614806e785cc"
      },
      "execution_count": null,
      "outputs": [
        {
          "output_type": "execute_result",
          "data": {
            "text/plain": [
              "   Id  SepalLengthCm  SepalWidthCm  PetalLengthCm  PetalWidthCm      Species\n",
              "0   1            5.1           3.5            1.4           0.2  Iris-setosa\n",
              "1   2            4.9           3.0            1.4           0.2  Iris-setosa\n",
              "2   3            4.7           3.2            1.3           0.2  Iris-setosa\n",
              "3   4            4.6           3.1            1.5           0.2  Iris-setosa\n",
              "4   5            5.0           3.6            1.4           0.2  Iris-setosa"
            ],
            "text/html": [
              "\n",
              "  <div id=\"df-2bd66042-5ef2-4ae7-a03b-be78bf0f6d83\">\n",
              "    <div class=\"colab-df-container\">\n",
              "      <div>\n",
              "<style scoped>\n",
              "    .dataframe tbody tr th:only-of-type {\n",
              "        vertical-align: middle;\n",
              "    }\n",
              "\n",
              "    .dataframe tbody tr th {\n",
              "        vertical-align: top;\n",
              "    }\n",
              "\n",
              "    .dataframe thead th {\n",
              "        text-align: right;\n",
              "    }\n",
              "</style>\n",
              "<table border=\"1\" class=\"dataframe\">\n",
              "  <thead>\n",
              "    <tr style=\"text-align: right;\">\n",
              "      <th></th>\n",
              "      <th>Id</th>\n",
              "      <th>SepalLengthCm</th>\n",
              "      <th>SepalWidthCm</th>\n",
              "      <th>PetalLengthCm</th>\n",
              "      <th>PetalWidthCm</th>\n",
              "      <th>Species</th>\n",
              "    </tr>\n",
              "  </thead>\n",
              "  <tbody>\n",
              "    <tr>\n",
              "      <th>0</th>\n",
              "      <td>1</td>\n",
              "      <td>5.1</td>\n",
              "      <td>3.5</td>\n",
              "      <td>1.4</td>\n",
              "      <td>0.2</td>\n",
              "      <td>Iris-setosa</td>\n",
              "    </tr>\n",
              "    <tr>\n",
              "      <th>1</th>\n",
              "      <td>2</td>\n",
              "      <td>4.9</td>\n",
              "      <td>3.0</td>\n",
              "      <td>1.4</td>\n",
              "      <td>0.2</td>\n",
              "      <td>Iris-setosa</td>\n",
              "    </tr>\n",
              "    <tr>\n",
              "      <th>2</th>\n",
              "      <td>3</td>\n",
              "      <td>4.7</td>\n",
              "      <td>3.2</td>\n",
              "      <td>1.3</td>\n",
              "      <td>0.2</td>\n",
              "      <td>Iris-setosa</td>\n",
              "    </tr>\n",
              "    <tr>\n",
              "      <th>3</th>\n",
              "      <td>4</td>\n",
              "      <td>4.6</td>\n",
              "      <td>3.1</td>\n",
              "      <td>1.5</td>\n",
              "      <td>0.2</td>\n",
              "      <td>Iris-setosa</td>\n",
              "    </tr>\n",
              "    <tr>\n",
              "      <th>4</th>\n",
              "      <td>5</td>\n",
              "      <td>5.0</td>\n",
              "      <td>3.6</td>\n",
              "      <td>1.4</td>\n",
              "      <td>0.2</td>\n",
              "      <td>Iris-setosa</td>\n",
              "    </tr>\n",
              "  </tbody>\n",
              "</table>\n",
              "</div>\n",
              "      <button class=\"colab-df-convert\" onclick=\"convertToInteractive('df-2bd66042-5ef2-4ae7-a03b-be78bf0f6d83')\"\n",
              "              title=\"Convert this dataframe to an interactive table.\"\n",
              "              style=\"display:none;\">\n",
              "        \n",
              "  <svg xmlns=\"http://www.w3.org/2000/svg\" height=\"24px\"viewBox=\"0 0 24 24\"\n",
              "       width=\"24px\">\n",
              "    <path d=\"M0 0h24v24H0V0z\" fill=\"none\"/>\n",
              "    <path d=\"M18.56 5.44l.94 2.06.94-2.06 2.06-.94-2.06-.94-.94-2.06-.94 2.06-2.06.94zm-11 1L8.5 8.5l.94-2.06 2.06-.94-2.06-.94L8.5 2.5l-.94 2.06-2.06.94zm10 10l.94 2.06.94-2.06 2.06-.94-2.06-.94-.94-2.06-.94 2.06-2.06.94z\"/><path d=\"M17.41 7.96l-1.37-1.37c-.4-.4-.92-.59-1.43-.59-.52 0-1.04.2-1.43.59L10.3 9.45l-7.72 7.72c-.78.78-.78 2.05 0 2.83L4 21.41c.39.39.9.59 1.41.59.51 0 1.02-.2 1.41-.59l7.78-7.78 2.81-2.81c.8-.78.8-2.07 0-2.86zM5.41 20L4 18.59l7.72-7.72 1.47 1.35L5.41 20z\"/>\n",
              "  </svg>\n",
              "      </button>\n",
              "      \n",
              "  <style>\n",
              "    .colab-df-container {\n",
              "      display:flex;\n",
              "      flex-wrap:wrap;\n",
              "      gap: 12px;\n",
              "    }\n",
              "\n",
              "    .colab-df-convert {\n",
              "      background-color: #E8F0FE;\n",
              "      border: none;\n",
              "      border-radius: 50%;\n",
              "      cursor: pointer;\n",
              "      display: none;\n",
              "      fill: #1967D2;\n",
              "      height: 32px;\n",
              "      padding: 0 0 0 0;\n",
              "      width: 32px;\n",
              "    }\n",
              "\n",
              "    .colab-df-convert:hover {\n",
              "      background-color: #E2EBFA;\n",
              "      box-shadow: 0px 1px 2px rgba(60, 64, 67, 0.3), 0px 1px 3px 1px rgba(60, 64, 67, 0.15);\n",
              "      fill: #174EA6;\n",
              "    }\n",
              "\n",
              "    [theme=dark] .colab-df-convert {\n",
              "      background-color: #3B4455;\n",
              "      fill: #D2E3FC;\n",
              "    }\n",
              "\n",
              "    [theme=dark] .colab-df-convert:hover {\n",
              "      background-color: #434B5C;\n",
              "      box-shadow: 0px 1px 3px 1px rgba(0, 0, 0, 0.15);\n",
              "      filter: drop-shadow(0px 1px 2px rgba(0, 0, 0, 0.3));\n",
              "      fill: #FFFFFF;\n",
              "    }\n",
              "  </style>\n",
              "\n",
              "      <script>\n",
              "        const buttonEl =\n",
              "          document.querySelector('#df-2bd66042-5ef2-4ae7-a03b-be78bf0f6d83 button.colab-df-convert');\n",
              "        buttonEl.style.display =\n",
              "          google.colab.kernel.accessAllowed ? 'block' : 'none';\n",
              "\n",
              "        async function convertToInteractive(key) {\n",
              "          const element = document.querySelector('#df-2bd66042-5ef2-4ae7-a03b-be78bf0f6d83');\n",
              "          const dataTable =\n",
              "            await google.colab.kernel.invokeFunction('convertToInteractive',\n",
              "                                                     [key], {});\n",
              "          if (!dataTable) return;\n",
              "\n",
              "          const docLinkHtml = 'Like what you see? Visit the ' +\n",
              "            '<a target=\"_blank\" href=https://colab.research.google.com/notebooks/data_table.ipynb>data table notebook</a>'\n",
              "            + ' to learn more about interactive tables.';\n",
              "          element.innerHTML = '';\n",
              "          dataTable['output_type'] = 'display_data';\n",
              "          await google.colab.output.renderOutput(dataTable, element);\n",
              "          const docLink = document.createElement('div');\n",
              "          docLink.innerHTML = docLinkHtml;\n",
              "          element.appendChild(docLink);\n",
              "        }\n",
              "      </script>\n",
              "    </div>\n",
              "  </div>\n",
              "  "
            ]
          },
          "metadata": {},
          "execution_count": 32
        }
      ]
    },
    {
      "cell_type": "code",
      "source": [
        "iris_df.Species.unique()"
      ],
      "metadata": {
        "colab": {
          "base_uri": "https://localhost:8080/"
        },
        "id": "7DC-MGMIJmzX",
        "outputId": "42b85bad-3bd2-409d-c4b4-d6ef7f8bdd30"
      },
      "execution_count": null,
      "outputs": [
        {
          "output_type": "execute_result",
          "data": {
            "text/plain": [
              "array(['Iris-setosa', 'Iris-versicolor', 'Iris-virginica'], dtype=object)"
            ]
          },
          "metadata": {},
          "execution_count": 33
        }
      ]
    },
    {
      "cell_type": "code",
      "source": [
        "iris = iris_df.groupby('Species',as_index= False)[\"Id\"].count()\n",
        "iris\n"
      ],
      "metadata": {
        "colab": {
          "base_uri": "https://localhost:8080/",
          "height": 143
        },
        "id": "L_KQ88veK7pp",
        "outputId": "de779dfa-212c-4093-bb46-67f82529564f"
      },
      "execution_count": null,
      "outputs": [
        {
          "output_type": "execute_result",
          "data": {
            "text/plain": [
              "           Species  Id\n",
              "0      Iris-setosa  50\n",
              "1  Iris-versicolor  50\n",
              "2   Iris-virginica  50"
            ],
            "text/html": [
              "\n",
              "  <div id=\"df-3a5ba369-903d-4899-ad6d-18d7b0fd7cad\">\n",
              "    <div class=\"colab-df-container\">\n",
              "      <div>\n",
              "<style scoped>\n",
              "    .dataframe tbody tr th:only-of-type {\n",
              "        vertical-align: middle;\n",
              "    }\n",
              "\n",
              "    .dataframe tbody tr th {\n",
              "        vertical-align: top;\n",
              "    }\n",
              "\n",
              "    .dataframe thead th {\n",
              "        text-align: right;\n",
              "    }\n",
              "</style>\n",
              "<table border=\"1\" class=\"dataframe\">\n",
              "  <thead>\n",
              "    <tr style=\"text-align: right;\">\n",
              "      <th></th>\n",
              "      <th>Species</th>\n",
              "      <th>Id</th>\n",
              "    </tr>\n",
              "  </thead>\n",
              "  <tbody>\n",
              "    <tr>\n",
              "      <th>0</th>\n",
              "      <td>Iris-setosa</td>\n",
              "      <td>50</td>\n",
              "    </tr>\n",
              "    <tr>\n",
              "      <th>1</th>\n",
              "      <td>Iris-versicolor</td>\n",
              "      <td>50</td>\n",
              "    </tr>\n",
              "    <tr>\n",
              "      <th>2</th>\n",
              "      <td>Iris-virginica</td>\n",
              "      <td>50</td>\n",
              "    </tr>\n",
              "  </tbody>\n",
              "</table>\n",
              "</div>\n",
              "      <button class=\"colab-df-convert\" onclick=\"convertToInteractive('df-3a5ba369-903d-4899-ad6d-18d7b0fd7cad')\"\n",
              "              title=\"Convert this dataframe to an interactive table.\"\n",
              "              style=\"display:none;\">\n",
              "        \n",
              "  <svg xmlns=\"http://www.w3.org/2000/svg\" height=\"24px\"viewBox=\"0 0 24 24\"\n",
              "       width=\"24px\">\n",
              "    <path d=\"M0 0h24v24H0V0z\" fill=\"none\"/>\n",
              "    <path d=\"M18.56 5.44l.94 2.06.94-2.06 2.06-.94-2.06-.94-.94-2.06-.94 2.06-2.06.94zm-11 1L8.5 8.5l.94-2.06 2.06-.94-2.06-.94L8.5 2.5l-.94 2.06-2.06.94zm10 10l.94 2.06.94-2.06 2.06-.94-2.06-.94-.94-2.06-.94 2.06-2.06.94z\"/><path d=\"M17.41 7.96l-1.37-1.37c-.4-.4-.92-.59-1.43-.59-.52 0-1.04.2-1.43.59L10.3 9.45l-7.72 7.72c-.78.78-.78 2.05 0 2.83L4 21.41c.39.39.9.59 1.41.59.51 0 1.02-.2 1.41-.59l7.78-7.78 2.81-2.81c.8-.78.8-2.07 0-2.86zM5.41 20L4 18.59l7.72-7.72 1.47 1.35L5.41 20z\"/>\n",
              "  </svg>\n",
              "      </button>\n",
              "      \n",
              "  <style>\n",
              "    .colab-df-container {\n",
              "      display:flex;\n",
              "      flex-wrap:wrap;\n",
              "      gap: 12px;\n",
              "    }\n",
              "\n",
              "    .colab-df-convert {\n",
              "      background-color: #E8F0FE;\n",
              "      border: none;\n",
              "      border-radius: 50%;\n",
              "      cursor: pointer;\n",
              "      display: none;\n",
              "      fill: #1967D2;\n",
              "      height: 32px;\n",
              "      padding: 0 0 0 0;\n",
              "      width: 32px;\n",
              "    }\n",
              "\n",
              "    .colab-df-convert:hover {\n",
              "      background-color: #E2EBFA;\n",
              "      box-shadow: 0px 1px 2px rgba(60, 64, 67, 0.3), 0px 1px 3px 1px rgba(60, 64, 67, 0.15);\n",
              "      fill: #174EA6;\n",
              "    }\n",
              "\n",
              "    [theme=dark] .colab-df-convert {\n",
              "      background-color: #3B4455;\n",
              "      fill: #D2E3FC;\n",
              "    }\n",
              "\n",
              "    [theme=dark] .colab-df-convert:hover {\n",
              "      background-color: #434B5C;\n",
              "      box-shadow: 0px 1px 3px 1px rgba(0, 0, 0, 0.15);\n",
              "      filter: drop-shadow(0px 1px 2px rgba(0, 0, 0, 0.3));\n",
              "      fill: #FFFFFF;\n",
              "    }\n",
              "  </style>\n",
              "\n",
              "      <script>\n",
              "        const buttonEl =\n",
              "          document.querySelector('#df-3a5ba369-903d-4899-ad6d-18d7b0fd7cad button.colab-df-convert');\n",
              "        buttonEl.style.display =\n",
              "          google.colab.kernel.accessAllowed ? 'block' : 'none';\n",
              "\n",
              "        async function convertToInteractive(key) {\n",
              "          const element = document.querySelector('#df-3a5ba369-903d-4899-ad6d-18d7b0fd7cad');\n",
              "          const dataTable =\n",
              "            await google.colab.kernel.invokeFunction('convertToInteractive',\n",
              "                                                     [key], {});\n",
              "          if (!dataTable) return;\n",
              "\n",
              "          const docLinkHtml = 'Like what you see? Visit the ' +\n",
              "            '<a target=\"_blank\" href=https://colab.research.google.com/notebooks/data_table.ipynb>data table notebook</a>'\n",
              "            + ' to learn more about interactive tables.';\n",
              "          element.innerHTML = '';\n",
              "          dataTable['output_type'] = 'display_data';\n",
              "          await google.colab.output.renderOutput(dataTable, element);\n",
              "          const docLink = document.createElement('div');\n",
              "          docLink.innerHTML = docLinkHtml;\n",
              "          element.appendChild(docLink);\n",
              "        }\n",
              "      </script>\n",
              "    </div>\n",
              "  </div>\n",
              "  "
            ]
          },
          "metadata": {},
          "execution_count": 34
        }
      ]
    },
    {
      "cell_type": "code",
      "source": [
        "ax = iris_df[iris_df.Species=='Iris-setosa'].plot.scatter(x='SepalLengthCm',y='SepalWidthCm',color='orange', label='Setosa')\n",
        "iris_df[iris_df.Species=='Iris-versicolor'].plot.scatter(x='SepalLengthCm',y='SepalWidthCm',color='white', label='versicolor',ax=ax)\n",
        "iris_df[iris_df.Species=='Iris-virginica'].plot.scatter(x='SepalLengthCm',y='SepalWidthCm',color='green', label='virginica', ax=ax)\n",
        "ax.set_xlabel(\"Sepal Length\")\n",
        "ax.set_ylabel(\"Sepal Width\")\n",
        "ax.set_title(\"Relationship between Sepal Length and Width\")"
      ],
      "metadata": {
        "colab": {
          "base_uri": "https://localhost:8080/",
          "height": 313
        },
        "id": "MaZyRttvLAhw",
        "outputId": "d4c5c2e3-b3da-44c2-d6db-0750c1141f01"
      },
      "execution_count": null,
      "outputs": [
        {
          "output_type": "execute_result",
          "data": {
            "text/plain": [
              "Text(0.5, 1.0, 'Relationship between Sepal Length and Width')"
            ]
          },
          "metadata": {},
          "execution_count": 35
        },
        {
          "output_type": "display_data",
          "data": {
            "text/plain": [
              "<Figure size 432x288 with 1 Axes>"
            ],
            "image/png": "[encoded data removed]"
          },
          "metadata": {
            "needs_background": "light"
          }
        }
      ]
    },
    {
      "cell_type": "code",
      "source": [
        "sns.FacetGrid(iris_df, hue=\"Species\", size=6) \\\n",
        "   .map(plt.scatter, \"PetalLengthCm\", \"PetalWidthCm\") \\\n",
        "   .add_legend()\n",
        "plt.title(\"Relationship between Petal Length and Width\")"
      ],
      "metadata": {
        "colab": {
          "base_uri": "https://localhost:8080/",
          "height": 511
        },
        "id": "t0CkXlQHLDS8",
        "outputId": "e36a7a2b-5dec-44ac-8bd6-cc30513fa920"
      },
      "execution_count": null,
      "outputs": [
        {
          "output_type": "stream",
          "name": "stderr",
          "text": [
            "/usr/local/lib/python3.7/dist-packages/seaborn/axisgrid.py:337: UserWarning: The `size` parameter has been renamed to `height`; please update your code.\n",
            "  warnings.warn(msg, UserWarning)\n"
          ]
        },
        {
          "output_type": "execute_result",
          "data": {
            "text/plain": [
              "Text(0.5, 1.0, 'Relationship between Petal Length and Width')"
            ]
          },
          "metadata": {},
          "execution_count": 36
        },
        {
          "output_type": "display_data",
          "data": {
            "text/plain": [
              "<Figure size 535.25x432 with 1 Axes>"
            ],
            "image/png": "[encoded data removed]"
          },
          "metadata": {
            "needs_background": "light"
          }
        }
      ]
    },
    {
      "cell_type": "code",
      "source": [
        "cols = ['SepalLengthCm', 'SepalWidthCm', 'PetalLengthCm','PetalWidthCm']\n",
        "corr_matrix = iris_df[cols].corr()\n",
        "heatmap = sns.heatmap(corr_matrix,cbar=True,annot=True,square=True,fmt='.2f',annot_kws={'size': 15},yticklabels=cols,xticklabels=cols,cmap='Dark2')"
      ],
      "metadata": {
        "colab": {
          "base_uri": "https://localhost:8080/",
          "height": 338
        },
        "id": "vPB96BR_LGIt",
        "outputId": "1aa13ca2-d5a0-48a9-f932-66424f88717f"
      },
      "execution_count": null,
      "outputs": [
        {
          "output_type": "display_data",
          "data": {
            "text/plain": [
              "<Figure size 432x288 with 2 Axes>"
            ],
            "image/png": "[encoded data removed]"
          },
          "metadata": {
            "needs_background": "light"
          }
        }
      ]
    },
    {
      "cell_type": "code",
      "source": [
        "petal = np.array(iris_df[[\"PetalLengthCm\",\"PetalWidthCm\"]])\n",
        "sepal = np.array(iris_df[[\"SepalLengthCm\",\"SepalWidthCm\"]])\n",
        "\n",
        "key = {'Iris-setosa':0,'Iris-versicolor':1,'Iris-virginica':2}\n",
        "Y = iris_df['Species'].map(key)"
      ],
      "metadata": {
        "id": "aACWe_8PLQue"
      },
      "execution_count": null,
      "outputs": []
    },
    {
      "cell_type": "code",
      "source": [
        "from sklearn.model_selection import train_test_split\n",
        "\n",
        "X_train_S, X_test_S, y_train_S, y_test_S = train_test_split(sepal,Y,test_size=0.2,random_state=42)\n",
        "\n",
        "X_train_P, X_test_P, y_train_P, y_test_P = train_test_split(petal,Y,test_size=0.2,random_state=42)"
      ],
      "metadata": {
        "id": "oFndnfP_LVA5"
      },
      "execution_count": null,
      "outputs": []
    },
    {
      "cell_type": "code",
      "source": [
        "from sklearn.preprocessing import StandardScaler\n",
        "\n",
        "scaler = StandardScaler()\n",
        "\n",
        "scaler.fit(X_train_S)\n",
        "X_train_std_S = scaler.transform(X_train_S)\n",
        "X_test_std_S = scaler.transform(X_test_S)\n",
        "\n",
        "scaler.fit(X_train_P)\n",
        "X_train_std_P = scaler.transform(X_train_P)\n",
        "X_test_std_P = scaler.transform(X_test_P)\n",
        "\n",
        "\n",
        "print('Standardized features for Sepal and Petal \\n')\n",
        "print(\"Sepal\\n\\n\" +str(X_train_std_S[:2]))\n",
        "print(\"\\nPetal\\n\\n\" +str(X_train_std_P[:2]))"
      ],
      "metadata": {
        "colab": {
          "base_uri": "https://localhost:8080/"
        },
        "id": "xWIIMWD9MdiA",
        "outputId": "cfcc810a-9d57-4b7f-ec6a-59c6883e831f"
      },
      "execution_count": null,
      "outputs": [
        {
          "output_type": "stream",
          "name": "stdout",
          "text": [
            "Standardized features for Sepal and Petal \n",
            "\n",
            "Sepal\n",
            "\n",
            "[[-1.47393679  1.22037928]\n",
            " [-0.13307079  3.02001693]]\n",
            "\n",
            "Petal\n",
            "\n",
            "[[-1.5639872  -1.30948358]\n",
            " [-1.27728011 -1.04292204]]\n"
          ]
        }
      ]
    },
    {
      "cell_type": "code",
      "source": [
        "from sklearn.linear_model import LogisticRegression\n",
        "model = LogisticRegression()\n",
        "model.fit(X_train_std_S,y_train_S)\n",
        "print('Training Accuracy Sepal = {}'.format(model.score(X_train_std_S, y_train_S)))\n",
        "print('Testing  Accuracy Sepal = {}'.format(model.score(X_test_std_S, y_test_S)))\n",
        "\n",
        "model.fit(X_train_std_P,y_train_P)\n",
        "print('\\nTraining Accuracy Petal = {}'.format(model.score(X_train_std_P, y_train_P)))\n",
        "print('Testing  Accuracy Petal = {}'.format(model.score(X_test_std_P, y_test_P)))"
      ],
      "metadata": {
        "colab": {
          "base_uri": "https://localhost:8080/"
        },
        "id": "yZ9d7_RcLPqE",
        "outputId": "5a680fb6-6a67-4530-8a7b-0a7440e370f7"
      },
      "execution_count": null,
      "outputs": [
        {
          "output_type": "stream",
          "name": "stdout",
          "text": [
            "Training Accuracy Sepal = 0.7916666666666666\n",
            "Testing  Accuracy Sepal = 0.9\n",
            "\n",
            "Training Accuracy Petal = 0.9416666666666667\n",
            "Testing  Accuracy Petal = 1.0\n"
          ]
        }
      ]
    }
  ]
}